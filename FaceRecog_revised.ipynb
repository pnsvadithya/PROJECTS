{
 "cells": [
  {
   "cell_type": "code",
   "execution_count": 1,
   "metadata": {
    "id": "5uW5jzAWCEw-"
   },
   "outputs": [],
   "source": [
    "import os\n",
    "from os import listdir\n",
    "from PIL import Image as Img\n",
    "from numpy import asarray\n",
    "from numpy import expand_dims\n",
    "from matplotlib import pyplot\n",
    "from keras.models import load_model\n",
    "import numpy as np\n",
    "import tensorflow as tf\n",
    "\n",
    "import pickle\n",
    "import cv2"
   ]
  },
  {
   "cell_type": "code",
   "execution_count": 2,
   "metadata": {
    "id": "yeWhhpkjCfS7"
   },
   "outputs": [],
   "source": [
    "HaarCascade = cv2.CascadeClassifier(cv2.samples.findFile(cv2.data.haarcascades + 'haarcascade_frontalface_default.xml'))"
   ]
  },
  {
   "cell_type": "code",
   "execution_count": 3,
   "metadata": {
    "id": "d7VXZ1s0Chom"
   },
   "outputs": [
    {
     "name": "stderr",
     "output_type": "stream",
     "text": [
      "'wget' is not recognized as an internal or external command,\n",
      "operable program or batch file.\n"
     ]
    },
    {
     "name": "stdout",
     "output_type": "stream",
     "text": [
      "Requirement already satisfied: keras-facenet in c:\\users\\adith\\appdata\\local\\programs\\python\\python311\\lib\\site-packages (0.3.2)\n",
      "Requirement already satisfied: mtcnn in c:\\users\\adith\\appdata\\local\\programs\\python\\python311\\lib\\site-packages (from keras-facenet) (0.1.1)\n",
      "Requirement already satisfied: keras>=2.0.0 in c:\\users\\adith\\appdata\\local\\programs\\python\\python311\\lib\\site-packages (from mtcnn->keras-facenet) (3.4.1)\n",
      "Requirement already satisfied: opencv-python>=4.1.0 in c:\\users\\adith\\appdata\\local\\programs\\python\\python311\\lib\\site-packages (from mtcnn->keras-facenet) (4.10.0.84)\n",
      "Requirement already satisfied: absl-py in c:\\users\\adith\\appdata\\local\\programs\\python\\python311\\lib\\site-packages (from keras>=2.0.0->mtcnn->keras-facenet) (2.1.0)\n",
      "Requirement already satisfied: numpy in c:\\users\\adith\\appdata\\local\\programs\\python\\python311\\lib\\site-packages (from keras>=2.0.0->mtcnn->keras-facenet) (1.26.4)\n",
      "Requirement already satisfied: rich in c:\\users\\adith\\appdata\\local\\programs\\python\\python311\\lib\\site-packages (from keras>=2.0.0->mtcnn->keras-facenet) (13.7.1)\n",
      "Requirement already satisfied: namex in c:\\users\\adith\\appdata\\local\\programs\\python\\python311\\lib\\site-packages (from keras>=2.0.0->mtcnn->keras-facenet) (0.0.8)\n",
      "Requirement already satisfied: h5py in c:\\users\\adith\\appdata\\local\\programs\\python\\python311\\lib\\site-packages (from keras>=2.0.0->mtcnn->keras-facenet) (3.11.0)\n",
      "Requirement already satisfied: optree in c:\\users\\adith\\appdata\\local\\programs\\python\\python311\\lib\\site-packages (from keras>=2.0.0->mtcnn->keras-facenet) (0.12.1)\n",
      "Requirement already satisfied: ml-dtypes in c:\\users\\adith\\appdata\\local\\programs\\python\\python311\\lib\\site-packages (from keras>=2.0.0->mtcnn->keras-facenet) (0.4.0)\n",
      "Requirement already satisfied: packaging in c:\\users\\adith\\appdata\\local\\programs\\python\\python311\\lib\\site-packages (from keras>=2.0.0->mtcnn->keras-facenet) (24.1)\n",
      "Requirement already satisfied: typing-extensions>=4.5.0 in c:\\users\\adith\\appdata\\local\\programs\\python\\python311\\lib\\site-packages (from optree->keras>=2.0.0->mtcnn->keras-facenet) (4.12.2)\n",
      "Requirement already satisfied: markdown-it-py>=2.2.0 in c:\\users\\adith\\appdata\\local\\programs\\python\\python311\\lib\\site-packages (from rich->keras>=2.0.0->mtcnn->keras-facenet) (3.0.0)\n",
      "Requirement already satisfied: pygments<3.0.0,>=2.13.0 in c:\\users\\adith\\appdata\\local\\programs\\python\\python311\\lib\\site-packages (from rich->keras>=2.0.0->mtcnn->keras-facenet) (2.18.0)\n",
      "Requirement already satisfied: mdurl~=0.1 in c:\\users\\adith\\appdata\\local\\programs\\python\\python311\\lib\\site-packages (from markdown-it-py>=2.2.0->rich->keras>=2.0.0->mtcnn->keras-facenet) (0.1.2)\n"
     ]
    },
    {
     "name": "stderr",
     "output_type": "stream",
     "text": [
      "\n",
      "[notice] A new release of pip is available: 24.0 -> 24.2\n",
      "[notice] To update, run: python.exe -m pip install --upgrade pip\n"
     ]
    }
   ],
   "source": [
    "!wget \"https://drive.google.com/uc?export=download&id=1PZ_6Zsy1Vb0s0JmjEmVd8FS99zoMCiN1\"\n",
    "!pip install keras-facenet\n",
    "from keras_facenet import FaceNet"
   ]
  },
  {
   "cell_type": "code",
   "execution_count": null,
   "metadata": {
    "id": "1-RhxnYSEBuF"
   },
   "outputs": [],
   "source": [
    "#MyFaceNet = load_model(\"facenet_keras.h5\")\n",
    "MyFaceNet = FaceNet()"
   ]
  },
  {
   "cell_type": "code",
   "execution_count": null,
   "metadata": {
    "id": "z-n_slKhD4wd"
   },
   "outputs": [],
   "source": [
    "folder='fotoPeserta/'\n",
    "database = {}\n",
    "\n",
    "for filename in listdir(folder):\n",
    "\n",
    "    path = folder + filename\n",
    "    gbr1 = cv2.imread(folder + filename)\n",
    "\n",
    "    wajah = HaarCascade.detectMultiScale(gbr1,1.1,4)\n",
    "\n",
    "    if len(wajah)>0:\n",
    "        x1, y1, width, height = wajah[0]\n",
    "    else:\n",
    "        x1, y1, width, height = 1, 1, 10, 10\n",
    "\n",
    "    x1, y1 = abs(x1), abs(y1)\n",
    "    x2, y2 = x1 + width, y1 + height\n",
    "\n",
    "    gbr = cv2.cvtColor(gbr1, cv2.COLOR_BGR2RGB)\n",
    "    gbr = Img.fromarray(gbr)                  # konversi dari OpenCV ke PIL\n",
    "    gbr_array = asarray(gbr)\n",
    "\n",
    "    face = gbr_array[y1:y2, x1:x2]\n",
    "\n",
    "    face = Img.fromarray(face)\n",
    "    face = face.resize((160,160))\n",
    "    face = asarray(face)\n",
    "\n",
    "    #face = face.astype('float32')\n",
    "    #mean, std = face.mean(), face.std()\n",
    "    #face = (face - mean) / std\n",
    "\n",
    "    face = expand_dims(face, axis=0)\n",
    "    #signature = MyFaceNet.predict(face)\n",
    "    signature = MyFaceNet.embeddings(face)\n",
    "\n",
    "    database[os.path.splitext(filename)[0]]=signature"
   ]
  },
  {
   "cell_type": "code",
   "execution_count": null,
   "metadata": {
    "id": "QvUFV9ddEz5b"
   },
   "outputs": [],
   "source": [
    "myfile = open(\"data.pkl\", \"wb\")\n",
    "pickle.dump(database, myfile)\n",
    "myfile.close()"
   ]
  },
  {
   "cell_type": "code",
   "execution_count": null,
   "metadata": {
    "id": "BEsKSKlIE7Rm"
   },
   "outputs": [],
   "source": [
    "myfile = open(\"data.pkl\", \"rb\")\n",
    "database = pickle.load(myfile)\n",
    "myfile.close()"
   ]
  },
  {
   "cell_type": "code",
   "execution_count": null,
   "metadata": {
    "id": "00Ea2CIdF7tm"
   },
   "outputs": [],
   "source": [
    "def js_to_image(js_reply):\n",
    "  image_bytes = b64decode(js_reply.split(',')[1])\n",
    "  jpg_as_np = np.frombuffer(image_bytes, dtype=np.uint8)\n",
    "  img = cv2.imdecode(jpg_as_np, flags=1)\n",
    "  return img"
   ]
  },
  {
   "cell_type": "code",
   "execution_count": null,
   "metadata": {
    "id": "pbrCKSe_FD8c"
   },
   "outputs": [],
   "source": [
    "def findFaces(data):\n",
    "  gbr1 = js_to_image(data)\n",
    "  gbr = cv2.cvtColor(gbr1, cv2.COLOR_BGR2RGB)\n",
    "  gbr = Img.fromarray(gbr)                  # konversi dari OpenCV ke PIL\n",
    "  gbr_array = asarray(gbr)\n",
    "\n",
    "  wajah = HaarCascade.detectMultiScale(gbr1,1.1,4)\n",
    "\n",
    "  for (x1,y1,w,h) in wajah:\n",
    "      x1, y1 = abs(x1), abs(y1)\n",
    "      x2, y2 = x1 + w, y1 + h\n",
    "\n",
    "      face = gbr_array[y1:y2, x1:x2]\n",
    "\n",
    "      face = Img.fromarray(face)\n",
    "      face = face.resize((160,160))\n",
    "      face = asarray(face)\n",
    "\n",
    "      #face = face.astype('float32')\n",
    "      #mean, std = face.mean(), face.std()\n",
    "      #face = (face - mean) / std\n",
    "\n",
    "      face = expand_dims(face, axis=0)\n",
    "      #signature = MyFaceNet.predict(face)\n",
    "      signature = MyFaceNet.embeddings(face)\n",
    "\n",
    "      min_dist=100\n",
    "      identity=' '\n",
    "      for key, value in database.items() :\n",
    "        dist = np.linalg.norm(value-signature)\n",
    "        if dist < min_dist:\n",
    "          min_dist = dist\n",
    "          identity = key\n",
    "\n",
    "      cv2.putText(gbr1,identity, (x1,y1),cv2.FONT_HERSHEY_SIMPLEX, 0.5, (255, 255, 0), 1, cv2.LINE_AA)\n",
    "      cv2.rectangle(gbr1,(x1,y1),(x2,y2), (0,255,0), 2)\n",
    "\n",
    "  filename='photo.jpg'\n",
    "  cv2.imwrite(filename, gbr1)\n",
    "\n",
    "  return filename"
   ]
  },
  {
   "cell_type": "code",
   "execution_count": null,
   "metadata": {
    "id": "XNiPKZaXFOPY"
   },
   "outputs": [],
   "source": [
    "from IPython.display import display, Javascript\n",
    "from google.colab.output import eval_js\n",
    "from base64 import b64decode\n",
    "\n",
    "def take_photo(filename='photo.jpg', quality=0.8):\n",
    "  js = Javascript('''\n",
    "    async function takePhoto(quality) {\n",
    "      const div = document.createElement('div');\n",
    "      const capture = document.createElement('button');\n",
    "      capture.textContent = 'Capture';\n",
    "      div.appendChild(capture);\n",
    "\n",
    "      const video = document.createElement('video');\n",
    "      video.style.display = 'block';\n",
    "      const stream = await navigator.mediaDevices.getUserMedia({video: true});\n",
    "\n",
    "      document.body.appendChild(div);\n",
    "      div.appendChild(video);\n",
    "      video.srcObject = stream;\n",
    "      await video.play();\n",
    "\n",
    "      // Resize the output to fit the video element.\n",
    "      google.colab.output.setIframeHeight(document.documentElement.scrollHeight, true);\n",
    "\n",
    "      // Wait for Capture to be clicked.\n",
    "      await new Promise((resolve) => capture.onclick = resolve);\n",
    "\n",
    "      const canvas = document.createElement('canvas');\n",
    "      canvas.width = video.videoWidth;\n",
    "      canvas.height = video.videoHeight;\n",
    "      canvas.getContext('2d').drawImage(video, 0, 0);\n",
    "      stream.getVideoTracks()[0].stop();\n",
    "      div.remove();\n",
    "      return canvas.toDataURL('image/jpeg', quality);\n",
    "    }\n",
    "    ''')\n",
    "  display(js)\n",
    "  data = eval_js('takePhoto({})'.format(quality))\n",
    "\n",
    "  filename=findFaces(data)\n",
    "\n",
    "  return filename"
   ]
  },
  {
   "cell_type": "code",
   "execution_count": null,
   "metadata": {
    "id": "nC5tUTPvFOPb"
   },
   "outputs": [],
   "source": [
    "from IPython.display import Image\n",
    "try:\n",
    "  filename = take_photo()\n",
    "  print('Saved to {}'.format(filename))\n",
    "\n",
    "  # Show the image which was just taken.\n",
    "  display(Image(filename))\n",
    "except Exception as err:\n",
    "  # Errors will be thrown if the user does not have a webcam or if they do not\n",
    "  # grant the page permission to access it.\n",
    "  print(str(err))"
   ]
  },
  {
   "cell_type": "code",
   "execution_count": null,
   "metadata": {
    "id": "nCqWOxkDGCyg"
   },
   "outputs": [],
   "source": []
  }
 ],
 "metadata": {
  "colab": {
   "provenance": []
  },
  "kernelspec": {
   "display_name": "Python 3 (ipykernel)",
   "language": "python",
   "name": "python3"
  },
  "language_info": {
   "codemirror_mode": {
    "name": "ipython",
    "version": 3
   },
   "file_extension": ".py",
   "mimetype": "text/x-python",
   "name": "python",
   "nbconvert_exporter": "python",
   "pygments_lexer": "ipython3",
   "version": "3.11.9"
  }
 },
 "nbformat": 4,
 "nbformat_minor": 4
}
